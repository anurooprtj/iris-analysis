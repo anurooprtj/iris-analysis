{
  "nbformat": 4,
  "nbformat_minor": 0,
  "metadata": {
    "colab": {
      "name": "iris_CNN.ipynb",
      "version": "0.3.2",
      "provenance": [],
      "toc_visible": true
    },
    "kernelspec": {
      "name": "python3",
      "display_name": "Python 3"
    },
    "accelerator": "GPU"
  },
  "cells": [
    {
      "cell_type": "code",
      "metadata": {
        "id": "Sr-DfG40QZm8",
        "colab_type": "code",
        "colab": {}
      },
      "source": [
        "# from google.colab import drive\n",
        "# drive.mount('/content/drive')"
      ],
      "execution_count": 0,
      "outputs": []
    },
    {
      "cell_type": "code",
      "metadata": {
        "id": "l1OA-j54Q4ac",
        "colab_type": "code",
        "colab": {}
      },
      "source": [
        "import numpy as np\n",
        "\n",
        "import tensorflow as tf\n",
        "from tensorflow import keras\n",
        "\n",
        "import matplotlib.pyplot as plt\n",
        "%matplotlib inline\n",
        "\n",
        "import pandas as pd\n",
        "\n",
        "np.random.seed(42)\n",
        "tf.set_random_seed(42)"
      ],
      "execution_count": 0,
      "outputs": []
    },
    {
      "cell_type": "code",
      "metadata": {
        "id": "Vx69iKrDREQY",
        "colab_type": "code",
        "colab": {}
      },
      "source": [
        "def loadNpData():\n",
        "  data = np.load('/content/drive/My Drive/ML_Data/iris_CNN/iris_data.npz')\n",
        "  X_train_ld = data['xtrain']\n",
        "  X_test_ld = data['xtest']  \n",
        "  y_train_ld = data['ytrain']  \n",
        "  y_test_ld = data['ytest']  \n",
        "  \n",
        "  return X_train_ld, X_test_ld, y_train_ld, y_test_ld"
      ],
      "execution_count": 0,
      "outputs": []
    },
    {
      "cell_type": "code",
      "metadata": {
        "id": "otjlKj0JRRG1",
        "colab_type": "code",
        "outputId": "792ca1d2-59ca-4d9e-d28d-e5e412e2c8e5",
        "colab": {
          "base_uri": "https://localhost:8080/",
          "height": 85
        }
      },
      "source": [
        "X_train, X_test, y_train, y_test = loadNpData()\n",
        "\n",
        "print(\"X_train.shape: \", X_train.shape)\n",
        "print(\"X_test.shape: \", X_test.shape)\n",
        "print(\"y_train.shape: \", y_train.shape)\n",
        "print(\"y_test.shape: \", y_test.shape)"
      ],
      "execution_count": 4,
      "outputs": [
        {
          "output_type": "stream",
          "text": [
            "X_train.shape:  (400, 28, 28)\n",
            "X_test.shape:  (100, 28, 28)\n",
            "y_train.shape:  (400, 1)\n",
            "y_test.shape:  (100, 1)\n"
          ],
          "name": "stdout"
        }
      ]
    },
    {
      "cell_type": "markdown",
      "metadata": {
        "id": "4VDFnNo7MDmL",
        "colab_type": "text"
      },
      "source": [
        "### Data processing"
      ]
    },
    {
      "cell_type": "code",
      "metadata": {
        "id": "urUTVDZ7RVrL",
        "colab_type": "code",
        "outputId": "eb484eb1-5b71-41f1-df7b-8a436a229175",
        "colab": {
          "base_uri": "https://localhost:8080/",
          "height": 51
        }
      },
      "source": [
        "X_train = X_train[..., np.newaxis]\n",
        "X_test = X_test[..., np.newaxis]\n",
        "\n",
        "X_train = X_train/255.0\n",
        "X_test = X_test/255.0\n",
        "\n",
        "print(\"X_train.shape: \", X_train.shape)\n",
        "print(\"X_test.shape: \", X_test.shape)"
      ],
      "execution_count": 5,
      "outputs": [
        {
          "output_type": "stream",
          "text": [
            "X_train.shape:  (400, 28, 28, 1)\n",
            "X_test.shape:  (100, 28, 28, 1)\n"
          ],
          "name": "stdout"
        }
      ]
    },
    {
      "cell_type": "markdown",
      "metadata": {
        "id": "Tf7UlHziRa5t",
        "colab_type": "text"
      },
      "source": [
        "### Convolution structure"
      ]
    },
    {
      "cell_type": "code",
      "metadata": {
        "id": "vBOuPrG5ReOE",
        "colab_type": "code",
        "outputId": "2f48c45f-49ec-4172-d05a-ea0c9408aac8",
        "colab": {
          "base_uri": "https://localhost:8080/",
          "height": 105
        }
      },
      "source": [
        "iris_model_CNN = keras.models.Sequential()\n",
        "iris_model_CNN.add(keras.layers.Conv2D(filters = 32, kernel_size = 3, padding = \"same\", \n",
        "                                 activation = \"relu\", input_shape = [28,28,1]))\n",
        "iris_model_CNN.add(keras.layers.MaxPooling2D(pool_size = 2))\n",
        "\n",
        "iris_model_CNN.add(keras.layers.Conv2D(filters = 64, kernel_size = 3, padding = \"same\",activation = \"relu\"))\n",
        "iris_model_CNN.add(keras.layers.MaxPooling2D(pool_size = 2))\n",
        "\n",
        "iris_model_CNN.add(keras.layers.Conv2D(filters = 64, kernel_size = 3, padding = \"same\", activation = \"relu\"))"
      ],
      "execution_count": 6,
      "outputs": [
        {
          "output_type": "stream",
          "text": [
            "WARNING: Logging before flag parsing goes to stderr.\n",
            "W0816 07:01:58.399824 139941350975360 deprecation.py:506] From /usr/local/lib/python3.6/dist-packages/tensorflow/python/ops/init_ops.py:1251: calling VarianceScaling.__init__ (from tensorflow.python.ops.init_ops) with dtype is deprecated and will be removed in a future version.\n",
            "Instructions for updating:\n",
            "Call initializer instance with the dtype argument instead of passing it to the constructor\n"
          ],
          "name": "stderr"
        }
      ]
    },
    {
      "cell_type": "code",
      "metadata": {
        "id": "8Ij4MCbpRhr0",
        "colab_type": "code",
        "outputId": "75538e5a-6108-45bf-de77-455e09081b82",
        "colab": {
          "base_uri": "https://localhost:8080/",
          "height": 493
        }
      },
      "source": [
        "iris_model_CNN.add(keras.layers.Flatten())\n",
        "iris_model_CNN.add(keras.layers.Dense(units = 28, activation = 'relu'))\n",
        "iris_model_CNN.add(keras.layers.Dense(units = 14, activation = 'relu'))\n",
        "iris_model_CNN.add(keras.layers.Dense(units = 7, activation = 'relu'))\n",
        "iris_model_CNN.add(keras.layers.Dense(units = 1, activation = 'sigmoid')) #Since it is a binary classification\n",
        "iris_model_CNN.summary()"
      ],
      "execution_count": 7,
      "outputs": [
        {
          "output_type": "stream",
          "text": [
            "Model: \"sequential\"\n",
            "_________________________________________________________________\n",
            "Layer (type)                 Output Shape              Param #   \n",
            "=================================================================\n",
            "conv2d (Conv2D)              (None, 28, 28, 32)        320       \n",
            "_________________________________________________________________\n",
            "max_pooling2d (MaxPooling2D) (None, 14, 14, 32)        0         \n",
            "_________________________________________________________________\n",
            "conv2d_1 (Conv2D)            (None, 14, 14, 64)        18496     \n",
            "_________________________________________________________________\n",
            "max_pooling2d_1 (MaxPooling2 (None, 7, 7, 64)          0         \n",
            "_________________________________________________________________\n",
            "conv2d_2 (Conv2D)            (None, 7, 7, 64)          36928     \n",
            "_________________________________________________________________\n",
            "flatten (Flatten)            (None, 3136)              0         \n",
            "_________________________________________________________________\n",
            "dense (Dense)                (None, 28)                87836     \n",
            "_________________________________________________________________\n",
            "dense_1 (Dense)              (None, 14)                406       \n",
            "_________________________________________________________________\n",
            "dense_2 (Dense)              (None, 7)                 105       \n",
            "_________________________________________________________________\n",
            "dense_3 (Dense)              (None, 1)                 8         \n",
            "=================================================================\n",
            "Total params: 144,099\n",
            "Trainable params: 144,099\n",
            "Non-trainable params: 0\n",
            "_________________________________________________________________\n"
          ],
          "name": "stdout"
        }
      ]
    },
    {
      "cell_type": "code",
      "metadata": {
        "id": "cIHmvwBORj1T",
        "colab_type": "code",
        "outputId": "75b60e28-1694-4353-d54e-87ffd9a3ff5b",
        "colab": {
          "base_uri": "https://localhost:8080/",
          "height": 1000
        }
      },
      "source": [
        "iris_model_CNN.compile(loss=\"binary_crossentropy\",\n",
        "              optimizer=\"adam\", metrics=[\"accuracy\"])\n",
        "\n",
        "callbacks = [\n",
        "    keras.callbacks.EarlyStopping(patience=10),\n",
        "    keras.callbacks.ModelCheckpoint(\"/content/drive/My Drive/ML_Data/iris_CNN/iris_model.h5\", save_best_only=True),\n",
        "]\n",
        "model_history_CNN = iris_model_CNN.fit(X_train,  y_train, epochs=100,\n",
        "                    validation_split = 0.1,\n",
        "                    callbacks=callbacks)"
      ],
      "execution_count": 8,
      "outputs": [
        {
          "output_type": "stream",
          "text": [
            "W0816 07:01:58.693416 139941350975360 deprecation.py:323] From /usr/local/lib/python3.6/dist-packages/tensorflow/python/ops/nn_impl.py:180: add_dispatch_support.<locals>.wrapper (from tensorflow.python.ops.array_ops) is deprecated and will be removed in a future version.\n",
            "Instructions for updating:\n",
            "Use tf.where in 2.0, which has the same broadcast rule as np.where\n"
          ],
          "name": "stderr"
        },
        {
          "output_type": "stream",
          "text": [
            "Train on 360 samples, validate on 40 samples\n",
            "Epoch 1/100\n",
            "360/360 [==============================] - 2s 5ms/sample - loss: 0.6603 - acc: 0.4778 - val_loss: 0.6146 - val_acc: 0.5000\n",
            "Epoch 2/100\n",
            "360/360 [==============================] - 0s 507us/sample - loss: 0.5702 - acc: 0.6278 - val_loss: 0.4999 - val_acc: 0.7500\n",
            "Epoch 3/100\n",
            "360/360 [==============================] - 0s 482us/sample - loss: 0.4425 - acc: 0.7722 - val_loss: 0.4050 - val_acc: 0.8250\n",
            "Epoch 4/100\n",
            "360/360 [==============================] - 0s 285us/sample - loss: 0.4095 - acc: 0.8444 - val_loss: 0.4224 - val_acc: 0.8000\n",
            "Epoch 5/100\n",
            "360/360 [==============================] - 0s 301us/sample - loss: 0.3657 - acc: 0.8444 - val_loss: 0.4612 - val_acc: 0.7500\n",
            "Epoch 6/100\n",
            "360/360 [==============================] - 0s 475us/sample - loss: 0.3668 - acc: 0.8500 - val_loss: 0.3975 - val_acc: 0.8500\n",
            "Epoch 7/100\n",
            "360/360 [==============================] - 0s 290us/sample - loss: 0.3423 - acc: 0.8722 - val_loss: 0.4089 - val_acc: 0.8250\n",
            "Epoch 8/100\n",
            "360/360 [==============================] - 0s 488us/sample - loss: 0.3386 - acc: 0.8556 - val_loss: 0.3726 - val_acc: 0.8750\n",
            "Epoch 9/100\n",
            "360/360 [==============================] - 0s 294us/sample - loss: 0.3559 - acc: 0.8667 - val_loss: 0.3858 - val_acc: 0.8250\n",
            "Epoch 10/100\n",
            "360/360 [==============================] - 0s 286us/sample - loss: 0.3406 - acc: 0.8639 - val_loss: 0.3769 - val_acc: 0.8500\n",
            "Epoch 11/100\n",
            "360/360 [==============================] - 0s 305us/sample - loss: 0.3290 - acc: 0.8694 - val_loss: 0.4308 - val_acc: 0.8500\n",
            "Epoch 12/100\n",
            "360/360 [==============================] - 0s 291us/sample - loss: 0.3243 - acc: 0.8722 - val_loss: 0.3987 - val_acc: 0.8750\n",
            "Epoch 13/100\n",
            "360/360 [==============================] - 0s 280us/sample - loss: 0.3195 - acc: 0.8833 - val_loss: 0.4072 - val_acc: 0.8750\n",
            "Epoch 14/100\n",
            "360/360 [==============================] - 0s 300us/sample - loss: 0.2975 - acc: 0.8917 - val_loss: 0.4404 - val_acc: 0.8250\n",
            "Epoch 15/100\n",
            "360/360 [==============================] - 0s 276us/sample - loss: 0.3017 - acc: 0.8889 - val_loss: 0.4473 - val_acc: 0.8000\n",
            "Epoch 16/100\n",
            "360/360 [==============================] - 0s 296us/sample - loss: 0.3058 - acc: 0.8778 - val_loss: 0.4416 - val_acc: 0.8500\n",
            "Epoch 17/100\n",
            "360/360 [==============================] - 0s 469us/sample - loss: 0.2873 - acc: 0.9000 - val_loss: 0.3639 - val_acc: 0.8750\n",
            "Epoch 18/100\n",
            "360/360 [==============================] - 0s 294us/sample - loss: 0.2921 - acc: 0.8917 - val_loss: 0.4279 - val_acc: 0.8750\n",
            "Epoch 19/100\n",
            "360/360 [==============================] - 0s 294us/sample - loss: 0.3080 - acc: 0.8833 - val_loss: 0.4237 - val_acc: 0.8500\n",
            "Epoch 20/100\n",
            "360/360 [==============================] - 0s 282us/sample - loss: 0.2705 - acc: 0.9000 - val_loss: 0.4559 - val_acc: 0.8750\n",
            "Epoch 21/100\n",
            "360/360 [==============================] - 0s 289us/sample - loss: 0.2603 - acc: 0.8972 - val_loss: 0.4799 - val_acc: 0.8750\n",
            "Epoch 22/100\n",
            "360/360 [==============================] - 0s 283us/sample - loss: 0.2588 - acc: 0.8944 - val_loss: 0.4565 - val_acc: 0.8750\n",
            "Epoch 23/100\n",
            "360/360 [==============================] - 0s 281us/sample - loss: 0.2716 - acc: 0.8944 - val_loss: 0.5096 - val_acc: 0.8500\n",
            "Epoch 24/100\n",
            "360/360 [==============================] - 0s 286us/sample - loss: 0.2327 - acc: 0.9167 - val_loss: 0.4638 - val_acc: 0.8500\n",
            "Epoch 25/100\n",
            "360/360 [==============================] - 0s 311us/sample - loss: 0.2382 - acc: 0.9194 - val_loss: 0.4392 - val_acc: 0.8500\n",
            "Epoch 26/100\n",
            "360/360 [==============================] - 0s 284us/sample - loss: 0.2564 - acc: 0.8944 - val_loss: 0.5005 - val_acc: 0.8750\n",
            "Epoch 27/100\n",
            "360/360 [==============================] - 0s 286us/sample - loss: 0.2488 - acc: 0.9028 - val_loss: 0.4257 - val_acc: 0.8750\n"
          ],
          "name": "stdout"
        }
      ]
    },
    {
      "cell_type": "code",
      "metadata": {
        "id": "42JCnQ3ySFRc",
        "colab_type": "code",
        "outputId": "4470f91d-e984-4c1d-b129-35b10551634f",
        "colab": {
          "base_uri": "https://localhost:8080/",
          "height": 139
        }
      },
      "source": [
        "bestModel = keras.models.load_model(\"/content/drive/My Drive/ML_Data/iris_CNN/iris_model.h5\")"
      ],
      "execution_count": 9,
      "outputs": [
        {
          "output_type": "stream",
          "text": [
            "W0816 07:02:04.968670 139941350975360 deprecation.py:506] From /usr/local/lib/python3.6/dist-packages/tensorflow/python/ops/init_ops.py:97: calling GlorotUniform.__init__ (from tensorflow.python.ops.init_ops) with dtype is deprecated and will be removed in a future version.\n",
            "Instructions for updating:\n",
            "Call initializer instance with the dtype argument instead of passing it to the constructor\n",
            "W0816 07:02:04.972150 139941350975360 deprecation.py:506] From /usr/local/lib/python3.6/dist-packages/tensorflow/python/ops/init_ops.py:97: calling Zeros.__init__ (from tensorflow.python.ops.init_ops) with dtype is deprecated and will be removed in a future version.\n",
            "Instructions for updating:\n",
            "Call initializer instance with the dtype argument instead of passing it to the constructor\n"
          ],
          "name": "stderr"
        }
      ]
    },
    {
      "cell_type": "code",
      "metadata": {
        "id": "gK1cnKCHS3OV",
        "colab_type": "code",
        "outputId": "48085497-2a9a-4d37-b9a0-4ff72d4dc4b2",
        "colab": {
          "base_uri": "https://localhost:8080/",
          "height": 51
        }
      },
      "source": [
        "test_loss, test_accuracy = bestModel.evaluate(X_test, y_test)\n",
        "\n",
        "print(\"Test loss: {} and Test-accuracy: {}\".format(test_loss, test_accuracy))"
      ],
      "execution_count": 10,
      "outputs": [
        {
          "output_type": "stream",
          "text": [
            "100/100 [==============================] - 0s 612us/sample - loss: 0.2311 - acc: 0.9300\n",
            "Test loss: 0.23106886506080626 and Test-accuracy: 0.9300000071525574\n"
          ],
          "name": "stdout"
        }
      ]
    },
    {
      "cell_type": "code",
      "metadata": {
        "id": "rZz9x-qCS5m9",
        "colab_type": "code",
        "outputId": "7155e48a-d6bb-4813-8409-59b6369e8cce",
        "colab": {
          "base_uri": "https://localhost:8080/",
          "height": 295
        }
      },
      "source": [
        "pd.DataFrame(model_history_CNN.history).plot()\n",
        "plt.grid(True)\n",
        "plt.xlabel('epochs')\n",
        "plt.ylabel(\"loss/accuracy\")\n",
        "plt.title(\"Training and Validation plot\")\n",
        "plt.show()"
      ],
      "execution_count": 11,
      "outputs": [
        {
          "output_type": "display_data",
          "data": {
            "image/png": "[encoded data removed]",
            "text/plain": [
              "<Figure size 432x288 with 1 Axes>"
            ]
          },
          "metadata": {
            "tags": []
          }
        }
      ]
    },
    {
      "cell_type": "code",
      "metadata": {
        "id": "4PRpHPsiOkbs",
        "colab_type": "code",
        "colab": {}
      },
      "source": [
        ""
      ],
      "execution_count": 0,
      "outputs": []
    }
  ]
}