{
 "cells": [
  {
   "cell_type": "code",
   "execution_count": 0,
   "metadata": {
    "colab": {},
    "colab_type": "code",
    "id": "l1OA-j54Q4ac"
   },
   "outputs": [],
   "source": [
    "import numpy as np\n",
    "\n",
    "import tensorflow as tf\n",
    "from tensorflow import keras\n",
    "\n",
    "import matplotlib.pyplot as plt\n",
    "%matplotlib inline\n",
    "\n",
    "import pandas as pd\n",
    "\n",
    "np.random.seed(42)\n",
    "tf.set_random_seed(42)"
   ]
  },
  {
   "cell_type": "code",
   "execution_count": 0,
   "metadata": {
    "colab": {},
    "colab_type": "code",
    "id": "Vx69iKrDREQY"
   },
   "outputs": [],
   "source": [
    "def loadNpData():\n",
    "  data = np.load('/content/drive/My Drive/ML_Data/iris_CNN/iris_data.npz')\n",
    "  x_ld = data['x']\n",
    "  y_ld = data['y']  \n",
    "  \n",
    "  return x_ld, y_ld"
   ]
  },
  {
   "cell_type": "code",
   "execution_count": 3,
   "metadata": {
    "colab": {
     "base_uri": "https://localhost:8080/",
     "height": 51
    },
    "colab_type": "code",
    "id": "otjlKj0JRRG1",
    "outputId": "634e4341-c892-4d6c-cd0b-251a5b7a199a"
   },
   "outputs": [
    {
     "name": "stdout",
     "output_type": "stream",
     "text": [
      "Shape of X:  (500, 28, 28)\n",
      "Shape of y:  (500, 1)\n"
     ]
    }
   ],
   "source": [
    "X, y = loadNpData()\n",
    "\n",
    "print(\"Shape of X: \", X.shape)\n",
    "print(\"Shape of y: \", y.shape)"
   ]
  },
  {
   "cell_type": "code",
   "execution_count": 4,
   "metadata": {
    "colab": {
     "base_uri": "https://localhost:8080/",
     "height": 85
    },
    "colab_type": "code",
    "id": "fc5kIDp6RTMU",
    "outputId": "490425b1-cac1-4285-c9fe-01ba22726c5d"
   },
   "outputs": [
    {
     "name": "stdout",
     "output_type": "stream",
     "text": [
      "X_train.shape:::::::::::::::::: (400, 28, 28)\n",
      "X_test.shape::::::::::::::::::: (100, 28, 28)\n",
      "y_train.shape:::::::::::::::::: (400, 1)\n",
      "y_test.shape::::::::::::::::::: (100, 1)\n"
     ]
    }
   ],
   "source": [
    "from sklearn.model_selection import train_test_split\n",
    "\n",
    "X_train, X_test, y_train, y_test = train_test_split(\n",
    "  X, y, test_size = 0.2, stratify = y, random_state = 42)\n",
    "\n",
    "print(\"X_train.shape::::::::::::::::::\", X_train.shape)\n",
    "print(\"X_test.shape:::::::::::::::::::\", X_test.shape)\n",
    "print(\"y_train.shape::::::::::::::::::\", y_train.shape)\n",
    "print(\"y_test.shape:::::::::::::::::::\", y_test.shape)"
   ]
  },
  {
   "cell_type": "code",
   "execution_count": 5,
   "metadata": {
    "colab": {
     "base_uri": "https://localhost:8080/",
     "height": 51
    },
    "colab_type": "code",
    "id": "urUTVDZ7RVrL",
    "outputId": "91a11f6e-7e39-43c0-97ff-e502e3dd0520"
   },
   "outputs": [
    {
     "name": "stdout",
     "output_type": "stream",
     "text": [
      "X_train.shape:::::::::::::::::: (400, 28, 28, 1)\n",
      "X_test.shape::::::::::::::::::: (100, 28, 28, 1)\n"
     ]
    }
   ],
   "source": [
    "X_train = X_train[..., np.newaxis]\n",
    "X_test = X_test[..., np.newaxis]\n",
    "\n",
    "print(\"X_train.shape::::::::::::::::::\", X_train.shape)\n",
    "print(\"X_test.shape:::::::::::::::::::\", X_test.shape)"
   ]
  },
  {
   "cell_type": "markdown",
   "metadata": {
    "colab_type": "text",
    "id": "Tf7UlHziRa5t"
   },
   "source": [
    "### Convolution structure"
   ]
  },
  {
   "cell_type": "code",
   "execution_count": 6,
   "metadata": {
    "colab": {
     "base_uri": "https://localhost:8080/",
     "height": 105
    },
    "colab_type": "code",
    "id": "vBOuPrG5ReOE",
    "outputId": "47c9fe28-9099-4e9f-f71e-f9f7fe646a4c"
   },
   "outputs": [
    {
     "name": "stderr",
     "output_type": "stream",
     "text": [
      "WARNING: Logging before flag parsing goes to stderr.\n",
      "W0807 18:18:38.659423 139868088457088 deprecation.py:506] From /usr/local/lib/python3.6/dist-packages/tensorflow/python/ops/init_ops.py:1251: calling VarianceScaling.__init__ (from tensorflow.python.ops.init_ops) with dtype is deprecated and will be removed in a future version.\n",
      "Instructions for updating:\n",
      "Call initializer instance with the dtype argument instead of passing it to the constructor\n"
     ]
    }
   ],
   "source": [
    "iris_model_CNN = keras.models.Sequential()\n",
    "iris_model_CNN.add(keras.layers.Conv2D(filters = 32, kernel_size = 3, padding = \"same\", \n",
    "                                 activation = \"relu\", input_shape = [28,28,1]))\n",
    "iris_model_CNN.add(keras.layers.MaxPooling2D(pool_size = 2))\n",
    "\n",
    "iris_model_CNN.add(keras.layers.Conv2D(filters = 64, kernel_size = 3, padding = \"same\",activation = \"relu\"))\n",
    "iris_model_CNN.add(keras.layers.MaxPooling2D(pool_size = 2))\n",
    "\n",
    "iris_model_CNN.add(keras.layers.Conv2D(filters = 64, kernel_size = 3, padding = \"same\", activation = \"relu\"))"
   ]
  },
  {
   "cell_type": "code",
   "execution_count": 7,
   "metadata": {
    "colab": {
     "base_uri": "https://localhost:8080/",
     "height": 493
    },
    "colab_type": "code",
    "id": "8Ij4MCbpRhr0",
    "outputId": "cb6e515f-62f5-4d94-82cf-8ab8933c4392"
   },
   "outputs": [
    {
     "name": "stdout",
     "output_type": "stream",
     "text": [
      "Model: \"sequential\"\n",
      "_________________________________________________________________\n",
      "Layer (type)                 Output Shape              Param #   \n",
      "=================================================================\n",
      "conv2d (Conv2D)              (None, 28, 28, 32)        320       \n",
      "_________________________________________________________________\n",
      "max_pooling2d (MaxPooling2D) (None, 14, 14, 32)        0         \n",
      "_________________________________________________________________\n",
      "conv2d_1 (Conv2D)            (None, 14, 14, 64)        18496     \n",
      "_________________________________________________________________\n",
      "max_pooling2d_1 (MaxPooling2 (None, 7, 7, 64)          0         \n",
      "_________________________________________________________________\n",
      "conv2d_2 (Conv2D)            (None, 7, 7, 64)          36928     \n",
      "_________________________________________________________________\n",
      "flatten (Flatten)            (None, 3136)              0         \n",
      "_________________________________________________________________\n",
      "dense (Dense)                (None, 28)                87836     \n",
      "_________________________________________________________________\n",
      "dense_1 (Dense)              (None, 14)                406       \n",
      "_________________________________________________________________\n",
      "dense_2 (Dense)              (None, 7)                 105       \n",
      "_________________________________________________________________\n",
      "dense_3 (Dense)              (None, 1)                 8         \n",
      "=================================================================\n",
      "Total params: 144,099\n",
      "Trainable params: 144,099\n",
      "Non-trainable params: 0\n",
      "_________________________________________________________________\n"
     ]
    }
   ],
   "source": [
    "iris_model_CNN.add(keras.layers.Flatten())\n",
    "iris_model_CNN.add(keras.layers.Dense(units = 28, activation = 'relu'))\n",
    "iris_model_CNN.add(keras.layers.Dense(units = 14, activation = 'relu'))\n",
    "iris_model_CNN.add(keras.layers.Dense(units = 7, activation = 'relu'))\n",
    "iris_model_CNN.add(keras.layers.Dense(units = 1, activation = 'sigmoid')) #Since it is a binary classificai\n",
    "iris_model_CNN.summary()"
   ]
  },
  {
   "cell_type": "code",
   "execution_count": 8,
   "metadata": {
    "colab": {
     "base_uri": "https://localhost:8080/",
     "height": 513
    },
    "colab_type": "code",
    "id": "cIHmvwBORj1T",
    "outputId": "7ac00326-ed1e-493e-8d16-8fe2c885c124"
   },
   "outputs": [
    {
     "name": "stderr",
     "output_type": "stream",
     "text": [
      "W0807 18:18:38.862889 139868088457088 deprecation.py:323] From /usr/local/lib/python3.6/dist-packages/tensorflow/python/ops/nn_impl.py:180: add_dispatch_support.<locals>.wrapper (from tensorflow.python.ops.array_ops) is deprecated and will be removed in a future version.\n",
      "Instructions for updating:\n",
      "Use tf.where in 2.0, which has the same broadcast rule as np.where\n"
     ]
    },
    {
     "name": "stdout",
     "output_type": "stream",
     "text": [
      "Train on 360 samples, validate on 40 samples\n",
      "Epoch 1/500\n",
      "360/360 [==============================] - 2s 6ms/sample - loss: 1.8637 - acc: 0.5278 - val_loss: 0.9395 - val_acc: 0.6000\n",
      "Epoch 2/500\n",
      "360/360 [==============================] - 0s 303us/sample - loss: 0.7281 - acc: 0.6778 - val_loss: 0.5995 - val_acc: 0.6500\n",
      "Epoch 3/500\n",
      "360/360 [==============================] - 0s 166us/sample - loss: 0.5760 - acc: 0.6833 - val_loss: 0.7184 - val_acc: 0.6250\n",
      "Epoch 4/500\n",
      "360/360 [==============================] - 0s 165us/sample - loss: 0.5814 - acc: 0.6806 - val_loss: 0.6882 - val_acc: 0.6250\n",
      "Epoch 5/500\n",
      "360/360 [==============================] - 0s 161us/sample - loss: 0.4933 - acc: 0.7500 - val_loss: 0.7516 - val_acc: 0.6250\n",
      "Epoch 6/500\n",
      "360/360 [==============================] - 0s 171us/sample - loss: 0.4729 - acc: 0.7306 - val_loss: 0.7319 - val_acc: 0.8000\n",
      "Epoch 7/500\n",
      "360/360 [==============================] - 0s 163us/sample - loss: 0.3883 - acc: 0.8278 - val_loss: 0.7379 - val_acc: 0.7500\n",
      "Epoch 8/500\n",
      "360/360 [==============================] - 0s 165us/sample - loss: 0.3829 - acc: 0.7889 - val_loss: 0.7604 - val_acc: 0.8000\n",
      "Epoch 9/500\n",
      "360/360 [==============================] - 0s 202us/sample - loss: 0.3388 - acc: 0.8222 - val_loss: 0.7864 - val_acc: 0.8000\n",
      "Epoch 10/500\n",
      "360/360 [==============================] - 0s 152us/sample - loss: 0.3170 - acc: 0.8528 - val_loss: 0.7387 - val_acc: 0.7750\n",
      "Epoch 11/500\n",
      "360/360 [==============================] - 0s 168us/sample - loss: 0.3164 - acc: 0.8472 - val_loss: 0.9764 - val_acc: 0.7750\n",
      "Epoch 12/500\n",
      "360/360 [==============================] - 0s 204us/sample - loss: 0.3401 - acc: 0.8417 - val_loss: 0.8590 - val_acc: 0.8000\n"
     ]
    }
   ],
   "source": [
    "iris_model_CNN.compile(loss=\"binary_crossentropy\",\n",
    "              optimizer=\"adam\", metrics=[\"accuracy\"])\n",
    "\n",
    "callbacks = [\n",
    "    keras.callbacks.EarlyStopping(patience=10),\n",
    "    keras.callbacks.ModelCheckpoint(\"/content/drive/My Drive/ML_Data/iris_CNN/iris_model.h5\", save_best_only=True),\n",
    "]\n",
    "model_history_CNN = iris_model_CNN.fit(X_train,  y_train, epochs=500,\n",
    "                    validation_split = 0.1,\n",
    "                    callbacks=callbacks)"
   ]
  },
  {
   "cell_type": "code",
   "execution_count": 0,
   "metadata": {
    "colab": {},
    "colab_type": "code",
    "id": "42JCnQ3ySFRc"
   },
   "outputs": [],
   "source": [
    "bestModel = keras.models.load_model(\"/content/drive/My Drive/ML_Data/iris_CNN/iris_model.h5\")"
   ]
  },
  {
   "cell_type": "code",
   "execution_count": 13,
   "metadata": {
    "colab": {
     "base_uri": "https://localhost:8080/",
     "height": 51
    },
    "colab_type": "code",
    "id": "gK1cnKCHS3OV",
    "outputId": "b830328d-5c63-4394-bcf5-f2432b24664e"
   },
   "outputs": [
    {
     "name": "stdout",
     "output_type": "stream",
     "text": [
      "100/100 [==============================] - 0s 655us/sample - loss: 0.5948 - acc: 0.6100\n",
      "Test loss0.5947741854190827 and Test-accuracy 0.6100000143051147\n"
     ]
    }
   ],
   "source": [
    "test_loss, test_accuracy = bestModel.evaluate(X_test, y_test)\n",
    "\n",
    "print(\"Test loss{} and Test-accuracy {}\".format(test_loss, test_accuracy))"
   ]
  },
  {
   "cell_type": "code",
   "execution_count": 11,
   "metadata": {
    "colab": {
     "base_uri": "https://localhost:8080/",
     "height": 295
    },
    "colab_type": "code",
    "id": "rZz9x-qCS5m9",
    "outputId": "44eba381-afc0-4cd8-c4b5-65e89ae7d37e"
   },
   "outputs": [
    {
     "data": {
      "image/png": "[encoded data removed]",
      "text/plain": [
       "<Figure size 432x288 with 1 Axes>"
      ]
     },
     "metadata": {
      "tags": []
     },
     "output_type": "display_data"
    }
   ],
   "source": [
    "pd.DataFrame(model_history_CNN.history).plot()\n",
    "plt.grid(True)\n",
    "plt.xlabel('epochs')\n",
    "plt.ylabel(\"loss/accuracy\")\n",
    "plt.title(\"Training and Validation plot\")\n",
    "plt.show()"
   ]
  }
 ],
 "metadata": {
  "accelerator": "GPU",
  "colab": {
   "name": "iris_CNN.ipynb",
   "provenance": [],
   "version": "0.3.2"
  },
  "kernelspec": {
   "display_name": "Python 3",
   "language": "python",
   "name": "python3"
  },
  "language_info": {
   "codemirror_mode": {
    "name": "ipython",
    "version": 3
   },
   "file_extension": ".py",
   "mimetype": "text/x-python",
   "name": "python",
   "nbconvert_exporter": "python",
   "pygments_lexer": "ipython3",
   "version": "3.6.7"
  }
 },
 "nbformat": 4,
 "nbformat_minor": 1
}
